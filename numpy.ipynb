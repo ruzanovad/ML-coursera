{
 "cells": [
  {
   "cell_type": "code",
   "execution_count": 1,
   "metadata": {},
   "outputs": [],
   "source": [
    "import numpy as np"
   ]
  },
  {
   "cell_type": "code",
   "execution_count": 2,
   "metadata": {},
   "outputs": [
    {
     "name": "stdout",
     "output_type": "stream",
     "text": [
      "[[ -0.64047024 -15.66266192   3.81060842 ...  18.11349284  -3.32800744\n",
      "    8.29926455]\n",
      " [  1.91852905  -0.90657936  -0.45334769 ...  -2.16963083   2.82681523\n",
      "   -5.86774051]\n",
      " [ 15.9334402    2.16047452 -13.12843865 ...  -0.86623852   3.63612067\n",
      "    9.27361905]\n",
      " ...\n",
      " [-10.609487   -14.86243608  -5.2927622  ... -10.37639733 -11.40732637\n",
      "    6.37495591]\n",
      " [ -2.62155022  22.09545392   2.11914325 ...  -2.60237983   1.88615458\n",
      "   -3.54557622]\n",
      " [  3.51193897   4.13093791   9.45947159 ...   4.71366864   6.81146008\n",
      "  -13.86972915]]\n"
     ]
    }
   ],
   "source": [
    "X = np.random.normal(loc=1, scale=10, size=(1000,50))\n",
    "print(X)"
   ]
  },
  {
   "cell_type": "code",
   "execution_count": 3,
   "metadata": {},
   "outputs": [
    {
     "name": "stdout",
     "output_type": "stream",
     "text": [
      "[[-0.11538514 -1.73395633  0.23892714 ...  1.67786278 -0.46114127\n",
      "   0.6876089 ]\n",
      " [ 0.13817059 -0.24809212 -0.18456027 ... -0.35308452  0.13493739\n",
      "  -0.73299134]\n",
      " [ 1.52682322  0.06074498 -1.44342441 ... -0.22257597  0.21331653\n",
      "   0.78531256]\n",
      " ...\n",
      " [-1.10315461 -1.65337756 -0.66520103 ... -1.17482729 -1.24360242\n",
      "   0.49464833]\n",
      " [-0.31167835  2.06809838  0.07093427 ... -0.39641564  0.04383683\n",
      "  -0.50013569]\n",
      " [ 0.29605193  0.25916085  0.79996069 ...  0.33613962  0.52083993\n",
      "  -1.5353929 ]]\n"
     ]
    }
   ],
   "source": [
    "mean = np.mean(X, axis=0)\n",
    "std = np.std(X, axis=0)\n",
    "X_norm = ((X - mean) / std)\n",
    "print(X_norm)"
   ]
  },
  {
   "cell_type": "code",
   "execution_count": 4,
   "metadata": {},
   "outputs": [],
   "source": [
    "Z = np.array([[4, 5, 0], \n",
    "             [1, 9, 3],              \n",
    "             [5, 1, 1],\n",
    "             [3, 3, 3], \n",
    "             [9, 9, 9], \n",
    "             [4, 7, 1]])"
   ]
  },
  {
   "cell_type": "code",
   "execution_count": 5,
   "metadata": {},
   "outputs": [
    {
     "name": "stdout",
     "output_type": "stream",
     "text": [
      "(array([1, 4, 5], dtype=int64),)\n"
     ]
    }
   ],
   "source": [
    "r = np.sum(Z, axis=1)\n",
    "print(np.nonzero(r>10))"
   ]
  },
  {
   "cell_type": "code",
   "execution_count": 6,
   "metadata": {},
   "outputs": [
    {
     "name": "stdout",
     "output_type": "stream",
     "text": [
      "[[1. 0.]\n",
      " [0. 1.]]\n"
     ]
    }
   ],
   "source": [
    "eye = np.eye(2)\n",
    "print(eye)"
   ]
  },
  {
   "cell_type": "code",
   "execution_count": 7,
   "metadata": {},
   "outputs": [],
   "source": [
    "A = np.eye(3)\n",
    "B = np.eye(3)\n",
    "AB = np.vstack((A,B))"
   ]
  },
  {
   "cell_type": "code",
   "execution_count": 8,
   "metadata": {},
   "outputs": [
    {
     "name": "stdout",
     "output_type": "stream",
     "text": [
      "[[1. 0. 0.]\n",
      " [0. 1. 0.]\n",
      " [0. 0. 1.]\n",
      " [1. 0. 0.]\n",
      " [0. 1. 0.]\n",
      " [0. 0. 1.]]\n"
     ]
    }
   ],
   "source": [
    "print(AB)"
   ]
  }
 ],
 "metadata": {
  "kernelspec": {
   "display_name": "Python 3",
   "language": "python",
   "name": "python3"
  },
  "language_info": {
   "codemirror_mode": {
    "name": "ipython",
    "version": 3
   },
   "file_extension": ".py",
   "mimetype": "text/x-python",
   "name": "python",
   "nbconvert_exporter": "python",
   "pygments_lexer": "ipython3",
   "version": "3.8.5"
  }
 },
 "nbformat": 4,
 "nbformat_minor": 4
}
